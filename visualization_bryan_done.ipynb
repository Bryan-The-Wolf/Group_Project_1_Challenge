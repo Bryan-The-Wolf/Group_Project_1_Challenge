{
 "cells": [
  {
   "cell_type": "code",
   "execution_count": 1,
   "metadata": {},
   "outputs": [],
   "source": [
    "import numpy as np\n",
    "import pandas as pd\n",
    "import csv\n",
    "import matplotlib.pyplot as plt\n",
    "import matplotlib.ticker as mticks"
   ]
  },
  {
   "cell_type": "code",
   "execution_count": 2,
   "metadata": {},
   "outputs": [],
   "source": [
    "imported_csv=pd.read_csv(\"crime_property.csv\")\n",
    "crime_property=pd.DataFrame(imported_csv)"
   ]
  },
  {
   "cell_type": "code",
   "execution_count": 3,
   "metadata": {
    "scrolled": true
   },
   "outputs": [
    {
     "data": {
      "text/html": [
       "<div>\n",
       "<style scoped>\n",
       "    .dataframe tbody tr th:only-of-type {\n",
       "        vertical-align: middle;\n",
       "    }\n",
       "\n",
       "    .dataframe tbody tr th {\n",
       "        vertical-align: top;\n",
       "    }\n",
       "\n",
       "    .dataframe thead th {\n",
       "        text-align: right;\n",
       "    }\n",
       "</style>\n",
       "<table border=\"1\" class=\"dataframe\">\n",
       "  <thead>\n",
       "    <tr style=\"text-align: right;\">\n",
       "      <th></th>\n",
       "      <th>Unnamed: 0</th>\n",
       "      <th>ID</th>\n",
       "      <th>Date</th>\n",
       "      <th>HrOfDate</th>\n",
       "      <th>Primary Type</th>\n",
       "      <th>Description</th>\n",
       "      <th>Location Description</th>\n",
       "      <th>Year</th>\n",
       "      <th>Latitude</th>\n",
       "      <th>Longitude</th>\n",
       "      <th>zipcode</th>\n",
       "      <th>City</th>\n",
       "      <th>CountyName</th>\n",
       "      <th>Property values 4/2019</th>\n",
       "      <th>Property values 4/2020</th>\n",
       "      <th>Per Capita Income 2018</th>\n",
       "    </tr>\n",
       "  </thead>\n",
       "  <tbody>\n",
       "    <tr>\n",
       "      <th>2047</th>\n",
       "      <td>2047</td>\n",
       "      <td>11289542</td>\n",
       "      <td>4/19/2018 6:13</td>\n",
       "      <td>6</td>\n",
       "      <td>BURGLARY</td>\n",
       "      <td>FORCIBLE ENTRY</td>\n",
       "      <td>RESTAURANT</td>\n",
       "      <td>2018</td>\n",
       "      <td>41.880560</td>\n",
       "      <td>-87.641687</td>\n",
       "      <td>60661</td>\n",
       "      <td>Chicago</td>\n",
       "      <td>Cook County</td>\n",
       "      <td>437273</td>\n",
       "      <td>468044</td>\n",
       "      <td>83672.0</td>\n",
       "    </tr>\n",
       "    <tr>\n",
       "      <th>2048</th>\n",
       "      <td>2048</td>\n",
       "      <td>11293121</td>\n",
       "      <td>4/22/2018 19:00</td>\n",
       "      <td>19</td>\n",
       "      <td>BURGLARY</td>\n",
       "      <td>ATTEMPT FORCIBLE ENTRY</td>\n",
       "      <td>RESTAURANT</td>\n",
       "      <td>2018</td>\n",
       "      <td>41.884026</td>\n",
       "      <td>-87.641260</td>\n",
       "      <td>60661</td>\n",
       "      <td>Chicago</td>\n",
       "      <td>Cook County</td>\n",
       "      <td>437273</td>\n",
       "      <td>468044</td>\n",
       "      <td>83672.0</td>\n",
       "    </tr>\n",
       "    <tr>\n",
       "      <th>2049</th>\n",
       "      <td>2049</td>\n",
       "      <td>11294693</td>\n",
       "      <td>4/23/2018 1:49</td>\n",
       "      <td>1</td>\n",
       "      <td>BURGLARY</td>\n",
       "      <td>FORCIBLE ENTRY</td>\n",
       "      <td>BAR OR TAVERN</td>\n",
       "      <td>2018</td>\n",
       "      <td>41.884434</td>\n",
       "      <td>-87.641968</td>\n",
       "      <td>60661</td>\n",
       "      <td>Chicago</td>\n",
       "      <td>Cook County</td>\n",
       "      <td>437273</td>\n",
       "      <td>468044</td>\n",
       "      <td>83672.0</td>\n",
       "    </tr>\n",
       "    <tr>\n",
       "      <th>2050</th>\n",
       "      <td>2050</td>\n",
       "      <td>11278604</td>\n",
       "      <td>4/7/2018 13:04</td>\n",
       "      <td>13</td>\n",
       "      <td>BURGLARY</td>\n",
       "      <td>FORCIBLE ENTRY</td>\n",
       "      <td>COMMERCIAL / BUSINESS OFFICE</td>\n",
       "      <td>2018</td>\n",
       "      <td>41.882366</td>\n",
       "      <td>-87.630882</td>\n",
       "      <td>60602</td>\n",
       "      <td>Chicago</td>\n",
       "      <td>Cook County</td>\n",
       "      <td>394596</td>\n",
       "      <td>376578</td>\n",
       "      <td>100507.0</td>\n",
       "    </tr>\n",
       "    <tr>\n",
       "      <th>2051</th>\n",
       "      <td>2051</td>\n",
       "      <td>11287361</td>\n",
       "      <td>4/16/2018 18:00</td>\n",
       "      <td>18</td>\n",
       "      <td>BURGLARY</td>\n",
       "      <td>FORCIBLE ENTRY</td>\n",
       "      <td>RESTAURANT</td>\n",
       "      <td>2018</td>\n",
       "      <td>41.882818</td>\n",
       "      <td>-87.639713</td>\n",
       "      <td>60606</td>\n",
       "      <td>Chicago</td>\n",
       "      <td>Cook County</td>\n",
       "      <td>392362</td>\n",
       "      <td>425795</td>\n",
       "      <td>132765.0</td>\n",
       "    </tr>\n",
       "  </tbody>\n",
       "</table>\n",
       "</div>"
      ],
      "text/plain": [
       "      Unnamed: 0        ID             Date  HrOfDate Primary Type  \\\n",
       "2047        2047  11289542   4/19/2018 6:13         6     BURGLARY   \n",
       "2048        2048  11293121  4/22/2018 19:00        19     BURGLARY   \n",
       "2049        2049  11294693   4/23/2018 1:49         1     BURGLARY   \n",
       "2050        2050  11278604   4/7/2018 13:04        13     BURGLARY   \n",
       "2051        2051  11287361  4/16/2018 18:00        18     BURGLARY   \n",
       "\n",
       "                 Description          Location Description  Year   Latitude  \\\n",
       "2047          FORCIBLE ENTRY                    RESTAURANT  2018  41.880560   \n",
       "2048  ATTEMPT FORCIBLE ENTRY                    RESTAURANT  2018  41.884026   \n",
       "2049          FORCIBLE ENTRY                 BAR OR TAVERN  2018  41.884434   \n",
       "2050          FORCIBLE ENTRY  COMMERCIAL / BUSINESS OFFICE  2018  41.882366   \n",
       "2051          FORCIBLE ENTRY                    RESTAURANT  2018  41.882818   \n",
       "\n",
       "      Longitude  zipcode     City   CountyName  Property values 4/2019  \\\n",
       "2047 -87.641687    60661  Chicago  Cook County                  437273   \n",
       "2048 -87.641260    60661  Chicago  Cook County                  437273   \n",
       "2049 -87.641968    60661  Chicago  Cook County                  437273   \n",
       "2050 -87.630882    60602  Chicago  Cook County                  394596   \n",
       "2051 -87.639713    60606  Chicago  Cook County                  392362   \n",
       "\n",
       "      Property values 4/2020  Per Capita Income 2018  \n",
       "2047                  468044                 83672.0  \n",
       "2048                  468044                 83672.0  \n",
       "2049                  468044                 83672.0  \n",
       "2050                  376578                100507.0  \n",
       "2051                  425795                132765.0  "
      ]
     },
     "execution_count": 3,
     "metadata": {},
     "output_type": "execute_result"
    }
   ],
   "source": [
    "crime_property.tail()"
   ]
  },
  {
   "cell_type": "code",
   "execution_count": 4,
   "metadata": {},
   "outputs": [
    {
     "data": {
      "text/html": [
       "<div>\n",
       "<style scoped>\n",
       "    .dataframe tbody tr th:only-of-type {\n",
       "        vertical-align: middle;\n",
       "    }\n",
       "\n",
       "    .dataframe tbody tr th {\n",
       "        vertical-align: top;\n",
       "    }\n",
       "\n",
       "    .dataframe thead th {\n",
       "        text-align: right;\n",
       "    }\n",
       "</style>\n",
       "<table border=\"1\" class=\"dataframe\">\n",
       "  <thead>\n",
       "    <tr style=\"text-align: right;\">\n",
       "      <th></th>\n",
       "      <th>HrOfDate</th>\n",
       "    </tr>\n",
       "  </thead>\n",
       "  <tbody>\n",
       "    <tr>\n",
       "      <th>19</th>\n",
       "      <td>86</td>\n",
       "    </tr>\n",
       "    <tr>\n",
       "      <th>20</th>\n",
       "      <td>55</td>\n",
       "    </tr>\n",
       "    <tr>\n",
       "      <th>21</th>\n",
       "      <td>68</td>\n",
       "    </tr>\n",
       "    <tr>\n",
       "      <th>22</th>\n",
       "      <td>80</td>\n",
       "    </tr>\n",
       "    <tr>\n",
       "      <th>23</th>\n",
       "      <td>82</td>\n",
       "    </tr>\n",
       "  </tbody>\n",
       "</table>\n",
       "</div>"
      ],
      "text/plain": [
       "    HrOfDate\n",
       "19        86\n",
       "20        55\n",
       "21        68\n",
       "22        80\n",
       "23        82"
      ]
     },
     "execution_count": 4,
     "metadata": {},
     "output_type": "execute_result"
    }
   ],
   "source": [
    "crime_time_of_day=crime_property[\"HrOfDate\"].value_counts()\n",
    "crime_time_of_day_df=pd.DataFrame(crime_time_of_day)\n",
    "sort_time_df=crime_time_of_day_df.sort_index()\n",
    "sort_time_df.tail()"
   ]
  },
  {
   "cell_type": "code",
   "execution_count": 5,
   "metadata": {},
   "outputs": [],
   "source": [
    "crime_time_of_day=crime_property[\"HrOfDate\"].value_counts()\n",
    "crime_time_of_day_df=pd.DataFrame(crime_time_of_day)\n",
    "sort_time_df=crime_time_of_day_df.sort_index()\n",
    "\n"
   ]
  },
  {
   "cell_type": "code",
   "execution_count": 6,
   "metadata": {},
   "outputs": [],
   "source": [
    "sort_time_df.reset_index(level=0,inplace=True)\n"
   ]
  },
  {
   "cell_type": "code",
   "execution_count": 7,
   "metadata": {},
   "outputs": [],
   "source": [
    "sort_time_df=sort_time_df.rename(columns={\"index\":\"Time_of_Day\",\n",
    "                                    \"HrOfDate\": \"Crime_Count\"})"
   ]
  },
  {
   "cell_type": "code",
   "execution_count": 8,
   "metadata": {},
   "outputs": [],
   "source": [
    "time_group= crime_property.groupby(\"HrOfDate\")\n",
    "count_time=time_group[\"HrOfDate\"].count()"
   ]
  },
  {
   "cell_type": "code",
   "execution_count": 9,
   "metadata": {
    "scrolled": true
   },
   "outputs": [
    {
     "data": {
      "image/png": "[encoded data removed]",
      "text/plain": [
       "<Figure size 432x288 with 1 Axes>"
      ]
     },
     "metadata": {
      "needs_background": "light"
     },
     "output_type": "display_data"
    }
   ],
   "source": [
    "count_time.plot(kind='bar')\n",
    "\n",
    "plt.xlabel(\"Time of day\")\n",
    "plt.ylabel(\"Property crimes\")\n",
    "plt.title('Crime by hour 2018-2020')\n",
    "plt.tight_layout()\n",
    "plt.savefig('time_chart2.png')\n",
    "plt.show()"
   ]
  },
  {
   "cell_type": "code",
   "execution_count": 10,
   "metadata": {},
   "outputs": [
    {
     "data": {
      "text/html": [
       "<div>\n",
       "<style scoped>\n",
       "    .dataframe tbody tr th:only-of-type {\n",
       "        vertical-align: middle;\n",
       "    }\n",
       "\n",
       "    .dataframe tbody tr th {\n",
       "        vertical-align: top;\n",
       "    }\n",
       "\n",
       "    .dataframe thead th {\n",
       "        text-align: right;\n",
       "    }\n",
       "</style>\n",
       "<table border=\"1\" class=\"dataframe\">\n",
       "  <thead>\n",
       "    <tr style=\"text-align: right;\">\n",
       "      <th></th>\n",
       "      <th>Time_of_Day</th>\n",
       "      <th>Crime_Count</th>\n",
       "    </tr>\n",
       "  </thead>\n",
       "  <tbody>\n",
       "    <tr>\n",
       "      <th>0</th>\n",
       "      <td>Late_Night</td>\n",
       "      <td>126</td>\n",
       "    </tr>\n",
       "    <tr>\n",
       "      <th>1</th>\n",
       "      <td>Late_Night</td>\n",
       "      <td>74</td>\n",
       "    </tr>\n",
       "    <tr>\n",
       "      <th>2</th>\n",
       "      <td>Late_Night</td>\n",
       "      <td>54</td>\n",
       "    </tr>\n",
       "    <tr>\n",
       "      <th>3</th>\n",
       "      <td>Late_Night</td>\n",
       "      <td>79</td>\n",
       "    </tr>\n",
       "    <tr>\n",
       "      <th>4</th>\n",
       "      <td>Late_Night</td>\n",
       "      <td>57</td>\n",
       "    </tr>\n",
       "  </tbody>\n",
       "</table>\n",
       "</div>"
      ],
      "text/plain": [
       "  Time_of_Day  Crime_Count\n",
       "0  Late_Night          126\n",
       "1  Late_Night           74\n",
       "2  Late_Night           54\n",
       "3  Late_Night           79\n",
       "4  Late_Night           57"
      ]
     },
     "execution_count": 10,
     "metadata": {},
     "output_type": "execute_result"
    }
   ],
   "source": [
    "bin =[0, 5, 11, 17, 23]\n",
    "group_name = [\"Late_Night\", \"Morning\", \"Afternoon\", \"Night\"]\n",
    "\n",
    "sort_time_df['Time_of_Day']=pd.cut(sort_time_df['Time_of_Day'], bin, labels=group_name, include_lowest=True)\n",
    "sort_time_df.head()"
   ]
  },
  {
   "cell_type": "code",
   "execution_count": 11,
   "metadata": {},
   "outputs": [],
   "source": [
    "time_breakdown=sort_time_df.groupby('Time_of_Day')\n",
    "time_of_day_count=time_breakdown['Crime_Count'].sum()"
   ]
  },
  {
   "cell_type": "code",
   "execution_count": 12,
   "metadata": {},
   "outputs": [
    {
     "data": {
      "image/png": "[encoded data removed]",
      "text/plain": [
       "<Figure size 432x288 with 1 Axes>"
      ]
     },
     "metadata": {
      "needs_background": "light"
     },
     "output_type": "display_data"
    }
   ],
   "source": [
    "time_of_day_count.plot(kind='bar')\n",
    "plt.xlabel(\"Phase of time\")\n",
    "plt.ylabel(\"Property crimes\")\n",
    "plt.title('Crime by phase 2018-2020')\n",
    "plt.savefig('time_breakdown2.png')\n",
    "plt.tight_layout()\n",
    "plt.show()"
   ]
  },
  {
   "cell_type": "code",
   "execution_count": 13,
   "metadata": {},
   "outputs": [],
   "source": [
    "zip_and_income=crime_property[['zipcode','Per Capita Income 2018']]\n",
    "zip_and_income=zip_and_income.set_index('zipcode')\n",
    "zip_and_income=zip_and_income[~zip_and_income.duplicated(keep=\"first\")]\n"
   ]
  },
  {
   "cell_type": "code",
   "execution_count": 14,
   "metadata": {},
   "outputs": [
    {
     "data": {
      "image/png": "[encoded data removed]",
      "text/plain": [
       "<Figure size 720x288 with 1 Axes>"
      ]
     },
     "metadata": {
      "needs_background": "light"
     },
     "output_type": "display_data"
    },
    {
     "data": {
      "text/plain": [
       "<Figure size 432x288 with 0 Axes>"
      ]
     },
     "metadata": {},
     "output_type": "display_data"
    }
   ],
   "source": [
    "zip_and_income.plot(kind=\"bar\", figsize=(10,4))\n",
    "plt.xlabel('Zipcode')\n",
    "plt.ylabel(\"Per capita income\")\n",
    "plt.title('Per Capita Income by zip 2018')\n",
    "plt.show()\n",
    "plt.tight_layout()\n",
    "plt.savefig('income_by_zip_2018_01.png')"
   ]
  },
  {
   "cell_type": "code",
   "execution_count": 15,
   "metadata": {},
   "outputs": [],
   "source": [
    "key_csv=pd.read_csv('Zip_code_key.csv')\n",
    "zip_key_pd=pd.DataFrame(key_csv)"
   ]
  },
  {
   "cell_type": "code",
   "execution_count": 16,
   "metadata": {},
   "outputs": [],
   "source": [
    "merge_data02=pd.merge(crime_property,zip_key_pd, how=\"left\", on='zipcode')"
   ]
  },
  {
   "cell_type": "code",
   "execution_count": 17,
   "metadata": {},
   "outputs": [],
   "source": [
    "key_income=pd.DataFrame(merge_data02)"
   ]
  },
  {
   "cell_type": "code",
   "execution_count": 18,
   "metadata": {},
   "outputs": [
    {
     "data": {
      "text/html": [
       "<div>\n",
       "<style scoped>\n",
       "    .dataframe tbody tr th:only-of-type {\n",
       "        vertical-align: middle;\n",
       "    }\n",
       "\n",
       "    .dataframe tbody tr th {\n",
       "        vertical-align: top;\n",
       "    }\n",
       "\n",
       "    .dataframe thead th {\n",
       "        text-align: right;\n",
       "    }\n",
       "</style>\n",
       "<table border=\"1\" class=\"dataframe\">\n",
       "  <thead>\n",
       "    <tr style=\"text-align: right;\">\n",
       "      <th></th>\n",
       "      <th>Unnamed: 0</th>\n",
       "      <th>ID</th>\n",
       "      <th>Date</th>\n",
       "      <th>HrOfDate</th>\n",
       "      <th>Primary Type</th>\n",
       "      <th>Description</th>\n",
       "      <th>Location Description</th>\n",
       "      <th>Year</th>\n",
       "      <th>Latitude</th>\n",
       "      <th>Longitude</th>\n",
       "      <th>zipcode</th>\n",
       "      <th>City</th>\n",
       "      <th>CountyName</th>\n",
       "      <th>Property values 4/2019</th>\n",
       "      <th>Property values 4/2020</th>\n",
       "      <th>Per Capita Income 2018</th>\n",
       "      <th>area</th>\n",
       "    </tr>\n",
       "  </thead>\n",
       "  <tbody>\n",
       "    <tr>\n",
       "      <th>2047</th>\n",
       "      <td>2047</td>\n",
       "      <td>11289542</td>\n",
       "      <td>4/19/2018 6:13</td>\n",
       "      <td>6</td>\n",
       "      <td>BURGLARY</td>\n",
       "      <td>FORCIBLE ENTRY</td>\n",
       "      <td>RESTAURANT</td>\n",
       "      <td>2018</td>\n",
       "      <td>41.880560</td>\n",
       "      <td>-87.641687</td>\n",
       "      <td>60661</td>\n",
       "      <td>Chicago</td>\n",
       "      <td>Cook County</td>\n",
       "      <td>437273</td>\n",
       "      <td>468044</td>\n",
       "      <td>83672.0</td>\n",
       "      <td>Downtown</td>\n",
       "    </tr>\n",
       "    <tr>\n",
       "      <th>2048</th>\n",
       "      <td>2048</td>\n",
       "      <td>11293121</td>\n",
       "      <td>4/22/2018 19:00</td>\n",
       "      <td>19</td>\n",
       "      <td>BURGLARY</td>\n",
       "      <td>ATTEMPT FORCIBLE ENTRY</td>\n",
       "      <td>RESTAURANT</td>\n",
       "      <td>2018</td>\n",
       "      <td>41.884026</td>\n",
       "      <td>-87.641260</td>\n",
       "      <td>60661</td>\n",
       "      <td>Chicago</td>\n",
       "      <td>Cook County</td>\n",
       "      <td>437273</td>\n",
       "      <td>468044</td>\n",
       "      <td>83672.0</td>\n",
       "      <td>Downtown</td>\n",
       "    </tr>\n",
       "    <tr>\n",
       "      <th>2049</th>\n",
       "      <td>2049</td>\n",
       "      <td>11294693</td>\n",
       "      <td>4/23/2018 1:49</td>\n",
       "      <td>1</td>\n",
       "      <td>BURGLARY</td>\n",
       "      <td>FORCIBLE ENTRY</td>\n",
       "      <td>BAR OR TAVERN</td>\n",
       "      <td>2018</td>\n",
       "      <td>41.884434</td>\n",
       "      <td>-87.641968</td>\n",
       "      <td>60661</td>\n",
       "      <td>Chicago</td>\n",
       "      <td>Cook County</td>\n",
       "      <td>437273</td>\n",
       "      <td>468044</td>\n",
       "      <td>83672.0</td>\n",
       "      <td>Downtown</td>\n",
       "    </tr>\n",
       "    <tr>\n",
       "      <th>2050</th>\n",
       "      <td>2050</td>\n",
       "      <td>11278604</td>\n",
       "      <td>4/7/2018 13:04</td>\n",
       "      <td>13</td>\n",
       "      <td>BURGLARY</td>\n",
       "      <td>FORCIBLE ENTRY</td>\n",
       "      <td>COMMERCIAL / BUSINESS OFFICE</td>\n",
       "      <td>2018</td>\n",
       "      <td>41.882366</td>\n",
       "      <td>-87.630882</td>\n",
       "      <td>60602</td>\n",
       "      <td>Chicago</td>\n",
       "      <td>Cook County</td>\n",
       "      <td>394596</td>\n",
       "      <td>376578</td>\n",
       "      <td>100507.0</td>\n",
       "      <td>Downtown</td>\n",
       "    </tr>\n",
       "    <tr>\n",
       "      <th>2051</th>\n",
       "      <td>2051</td>\n",
       "      <td>11287361</td>\n",
       "      <td>4/16/2018 18:00</td>\n",
       "      <td>18</td>\n",
       "      <td>BURGLARY</td>\n",
       "      <td>FORCIBLE ENTRY</td>\n",
       "      <td>RESTAURANT</td>\n",
       "      <td>2018</td>\n",
       "      <td>41.882818</td>\n",
       "      <td>-87.639713</td>\n",
       "      <td>60606</td>\n",
       "      <td>Chicago</td>\n",
       "      <td>Cook County</td>\n",
       "      <td>392362</td>\n",
       "      <td>425795</td>\n",
       "      <td>132765.0</td>\n",
       "      <td>Downtown</td>\n",
       "    </tr>\n",
       "  </tbody>\n",
       "</table>\n",
       "</div>"
      ],
      "text/plain": [
       "      Unnamed: 0        ID             Date  HrOfDate Primary Type  \\\n",
       "2047        2047  11289542   4/19/2018 6:13         6     BURGLARY   \n",
       "2048        2048  11293121  4/22/2018 19:00        19     BURGLARY   \n",
       "2049        2049  11294693   4/23/2018 1:49         1     BURGLARY   \n",
       "2050        2050  11278604   4/7/2018 13:04        13     BURGLARY   \n",
       "2051        2051  11287361  4/16/2018 18:00        18     BURGLARY   \n",
       "\n",
       "                 Description          Location Description  Year   Latitude  \\\n",
       "2047          FORCIBLE ENTRY                    RESTAURANT  2018  41.880560   \n",
       "2048  ATTEMPT FORCIBLE ENTRY                    RESTAURANT  2018  41.884026   \n",
       "2049          FORCIBLE ENTRY                 BAR OR TAVERN  2018  41.884434   \n",
       "2050          FORCIBLE ENTRY  COMMERCIAL / BUSINESS OFFICE  2018  41.882366   \n",
       "2051          FORCIBLE ENTRY                    RESTAURANT  2018  41.882818   \n",
       "\n",
       "      Longitude  zipcode     City   CountyName  Property values 4/2019  \\\n",
       "2047 -87.641687    60661  Chicago  Cook County                  437273   \n",
       "2048 -87.641260    60661  Chicago  Cook County                  437273   \n",
       "2049 -87.641968    60661  Chicago  Cook County                  437273   \n",
       "2050 -87.630882    60602  Chicago  Cook County                  394596   \n",
       "2051 -87.639713    60606  Chicago  Cook County                  392362   \n",
       "\n",
       "      Property values 4/2020  Per Capita Income 2018      area  \n",
       "2047                  468044                 83672.0  Downtown  \n",
       "2048                  468044                 83672.0  Downtown  \n",
       "2049                  468044                 83672.0  Downtown  \n",
       "2050                  376578                100507.0  Downtown  \n",
       "2051                  425795                132765.0  Downtown  "
      ]
     },
     "execution_count": 18,
     "metadata": {},
     "output_type": "execute_result"
    }
   ],
   "source": [
    "key_income.tail()"
   ]
  },
  {
   "cell_type": "code",
   "execution_count": 19,
   "metadata": {},
   "outputs": [],
   "source": [
    "area_income=key_income[['area','Per Capita Income 2018']]\n",
    "area_income=area_income[~area_income.duplicated(keep=\"first\")]\n"
   ]
  },
  {
   "cell_type": "code",
   "execution_count": 20,
   "metadata": {},
   "outputs": [
    {
     "data": {
      "text/html": [
       "<div>\n",
       "<style scoped>\n",
       "    .dataframe tbody tr th:only-of-type {\n",
       "        vertical-align: middle;\n",
       "    }\n",
       "\n",
       "    .dataframe tbody tr th {\n",
       "        vertical-align: top;\n",
       "    }\n",
       "\n",
       "    .dataframe thead th {\n",
       "        text-align: right;\n",
       "    }\n",
       "</style>\n",
       "<table border=\"1\" class=\"dataframe\">\n",
       "  <thead>\n",
       "    <tr style=\"text-align: right;\">\n",
       "      <th></th>\n",
       "      <th>Per Capita Income 2018</th>\n",
       "    </tr>\n",
       "    <tr>\n",
       "      <th>area</th>\n",
       "      <th></th>\n",
       "    </tr>\n",
       "  </thead>\n",
       "  <tbody>\n",
       "    <tr>\n",
       "      <th>Downtown</th>\n",
       "      <td>75878.846154</td>\n",
       "    </tr>\n",
       "    <tr>\n",
       "      <th>Far North Side</th>\n",
       "      <td>30297.500000</td>\n",
       "    </tr>\n",
       "    <tr>\n",
       "      <th>Far South Side</th>\n",
       "      <td>27560.800000</td>\n",
       "    </tr>\n",
       "    <tr>\n",
       "      <th>North Side</th>\n",
       "      <td>49043.250000</td>\n",
       "    </tr>\n",
       "    <tr>\n",
       "      <th>North West Side</th>\n",
       "      <td>37094.333333</td>\n",
       "    </tr>\n",
       "    <tr>\n",
       "      <th>South Side</th>\n",
       "      <td>20747.916667</td>\n",
       "    </tr>\n",
       "    <tr>\n",
       "      <th>South West Side</th>\n",
       "      <td>22998.000000</td>\n",
       "    </tr>\n",
       "    <tr>\n",
       "      <th>West Side</th>\n",
       "      <td>30504.400000</td>\n",
       "    </tr>\n",
       "  </tbody>\n",
       "</table>\n",
       "</div>"
      ],
      "text/plain": [
       "                 Per Capita Income 2018\n",
       "area                                   \n",
       "Downtown                   75878.846154\n",
       "Far North Side             30297.500000\n",
       "Far South Side             27560.800000\n",
       "North Side                 49043.250000\n",
       "North West Side            37094.333333\n",
       "South Side                 20747.916667\n",
       "South West Side            22998.000000\n",
       "West Side                  30504.400000"
      ]
     },
     "execution_count": 20,
     "metadata": {},
     "output_type": "execute_result"
    }
   ],
   "source": [
    "area_breakdown=area_income.groupby('area')\n",
    "area_count=area_breakdown.mean()\n",
    "area_count"
   ]
  },
  {
   "cell_type": "code",
   "execution_count": 21,
   "metadata": {
    "scrolled": true
   },
   "outputs": [
    {
     "data": {
      "image/png": "[encoded data removed]",
      "text/plain": [
       "<Figure size 432x288 with 1 Axes>"
      ]
     },
     "metadata": {
      "needs_background": "light"
     },
     "output_type": "display_data"
    }
   ],
   "source": [
    "area_count.plot(kind=\"bar\")\n",
    "plt.xlabel('Area of Chicago')\n",
    "plt.ylabel('Mean per capita income 2018')\n",
    "plt.title('Mean per capita Chicago by area')\n",
    "plt.legend(\"\")\n",
    "plt.tight_layout()\n",
    "plt.savefig('mean_per_capita.png')\n",
    "plt.show()"
   ]
  },
  {
   "cell_type": "code",
   "execution_count": 22,
   "metadata": {},
   "outputs": [
    {
     "data": {
      "text/html": [
       "<div>\n",
       "<style scoped>\n",
       "    .dataframe tbody tr th:only-of-type {\n",
       "        vertical-align: middle;\n",
       "    }\n",
       "\n",
       "    .dataframe tbody tr th {\n",
       "        vertical-align: top;\n",
       "    }\n",
       "\n",
       "    .dataframe thead th {\n",
       "        text-align: right;\n",
       "    }\n",
       "</style>\n",
       "<table border=\"1\" class=\"dataframe\">\n",
       "  <thead>\n",
       "    <tr style=\"text-align: right;\">\n",
       "      <th></th>\n",
       "      <th></th>\n",
       "      <th>0</th>\n",
       "    </tr>\n",
       "    <tr>\n",
       "      <th>Year</th>\n",
       "      <th>HrOfDate</th>\n",
       "      <th></th>\n",
       "    </tr>\n",
       "  </thead>\n",
       "  <tbody>\n",
       "    <tr>\n",
       "      <th rowspan=\"5\" valign=\"top\">2018</th>\n",
       "      <th>9</th>\n",
       "      <td>61</td>\n",
       "    </tr>\n",
       "    <tr>\n",
       "      <th>8</th>\n",
       "      <td>54</td>\n",
       "    </tr>\n",
       "    <tr>\n",
       "      <th>12</th>\n",
       "      <td>49</td>\n",
       "    </tr>\n",
       "    <tr>\n",
       "      <th>10</th>\n",
       "      <td>49</td>\n",
       "    </tr>\n",
       "    <tr>\n",
       "      <th>15</th>\n",
       "      <td>47</td>\n",
       "    </tr>\n",
       "  </tbody>\n",
       "</table>\n",
       "</div>"
      ],
      "text/plain": [
       "                0\n",
       "Year HrOfDate    \n",
       "2018 9         61\n",
       "     8         54\n",
       "     12        49\n",
       "     10        49\n",
       "     15        47"
      ]
     },
     "execution_count": 22,
     "metadata": {},
     "output_type": "execute_result"
    }
   ],
   "source": [
    "crime_by_year=crime_property[[\"Year\",\"HrOfDate\"]].value_counts()\n",
    "crime_by_year_df=pd.DataFrame(crime_by_year)\n",
    "crime_by_year_df.head()"
   ]
  },
  {
   "cell_type": "code",
   "execution_count": 23,
   "metadata": {},
   "outputs": [
    {
     "data": {
      "text/html": [
       "<div>\n",
       "<style scoped>\n",
       "    .dataframe tbody tr th:only-of-type {\n",
       "        vertical-align: middle;\n",
       "    }\n",
       "\n",
       "    .dataframe tbody tr th {\n",
       "        vertical-align: top;\n",
       "    }\n",
       "\n",
       "    .dataframe thead th {\n",
       "        text-align: right;\n",
       "    }\n",
       "</style>\n",
       "<table border=\"1\" class=\"dataframe\">\n",
       "  <thead>\n",
       "    <tr style=\"text-align: right;\">\n",
       "      <th></th>\n",
       "      <th>Year</th>\n",
       "      <th>HrOfDate</th>\n",
       "      <th>0</th>\n",
       "    </tr>\n",
       "  </thead>\n",
       "  <tbody>\n",
       "    <tr>\n",
       "      <th>0</th>\n",
       "      <td>2018</td>\n",
       "      <td>9</td>\n",
       "      <td>61</td>\n",
       "    </tr>\n",
       "    <tr>\n",
       "      <th>1</th>\n",
       "      <td>2018</td>\n",
       "      <td>8</td>\n",
       "      <td>54</td>\n",
       "    </tr>\n",
       "    <tr>\n",
       "      <th>2</th>\n",
       "      <td>2018</td>\n",
       "      <td>12</td>\n",
       "      <td>49</td>\n",
       "    </tr>\n",
       "    <tr>\n",
       "      <th>3</th>\n",
       "      <td>2018</td>\n",
       "      <td>10</td>\n",
       "      <td>49</td>\n",
       "    </tr>\n",
       "    <tr>\n",
       "      <th>4</th>\n",
       "      <td>2018</td>\n",
       "      <td>15</td>\n",
       "      <td>47</td>\n",
       "    </tr>\n",
       "    <tr>\n",
       "      <th>...</th>\n",
       "      <td>...</td>\n",
       "      <td>...</td>\n",
       "      <td>...</td>\n",
       "    </tr>\n",
       "    <tr>\n",
       "      <th>67</th>\n",
       "      <td>2020</td>\n",
       "      <td>21</td>\n",
       "      <td>12</td>\n",
       "    </tr>\n",
       "    <tr>\n",
       "      <th>68</th>\n",
       "      <td>2020</td>\n",
       "      <td>6</td>\n",
       "      <td>12</td>\n",
       "    </tr>\n",
       "    <tr>\n",
       "      <th>69</th>\n",
       "      <td>2020</td>\n",
       "      <td>2</td>\n",
       "      <td>12</td>\n",
       "    </tr>\n",
       "    <tr>\n",
       "      <th>70</th>\n",
       "      <td>2019</td>\n",
       "      <td>20</td>\n",
       "      <td>11</td>\n",
       "    </tr>\n",
       "    <tr>\n",
       "      <th>71</th>\n",
       "      <td>2020</td>\n",
       "      <td>11</td>\n",
       "      <td>11</td>\n",
       "    </tr>\n",
       "  </tbody>\n",
       "</table>\n",
       "<p>72 rows × 3 columns</p>\n",
       "</div>"
      ],
      "text/plain": [
       "    Year  HrOfDate   0\n",
       "0   2018         9  61\n",
       "1   2018         8  54\n",
       "2   2018        12  49\n",
       "3   2018        10  49\n",
       "4   2018        15  47\n",
       "..   ...       ...  ..\n",
       "67  2020        21  12\n",
       "68  2020         6  12\n",
       "69  2020         2  12\n",
       "70  2019        20  11\n",
       "71  2020        11  11\n",
       "\n",
       "[72 rows x 3 columns]"
      ]
     },
     "execution_count": 23,
     "metadata": {},
     "output_type": "execute_result"
    }
   ],
   "source": [
    "crime_year_df=crime_by_year_df.reset_index()\n",
    "crime_year_df"
   ]
  },
  {
   "cell_type": "code",
   "execution_count": 24,
   "metadata": {
    "scrolled": true
   },
   "outputs": [
    {
     "data": {
      "text/html": [
       "<div>\n",
       "<style scoped>\n",
       "    .dataframe tbody tr th:only-of-type {\n",
       "        vertical-align: middle;\n",
       "    }\n",
       "\n",
       "    .dataframe tbody tr th {\n",
       "        vertical-align: top;\n",
       "    }\n",
       "\n",
       "    .dataframe thead th {\n",
       "        text-align: right;\n",
       "    }\n",
       "</style>\n",
       "<table border=\"1\" class=\"dataframe\">\n",
       "  <thead>\n",
       "    <tr style=\"text-align: right;\">\n",
       "      <th></th>\n",
       "      <th>Year</th>\n",
       "      <th>Time_of_Day</th>\n",
       "      <th>Crime_Count</th>\n",
       "    </tr>\n",
       "  </thead>\n",
       "  <tbody>\n",
       "    <tr>\n",
       "      <th>0</th>\n",
       "      <td>2018</td>\n",
       "      <td>9</td>\n",
       "      <td>61</td>\n",
       "    </tr>\n",
       "    <tr>\n",
       "      <th>1</th>\n",
       "      <td>2018</td>\n",
       "      <td>8</td>\n",
       "      <td>54</td>\n",
       "    </tr>\n",
       "    <tr>\n",
       "      <th>2</th>\n",
       "      <td>2018</td>\n",
       "      <td>12</td>\n",
       "      <td>49</td>\n",
       "    </tr>\n",
       "    <tr>\n",
       "      <th>3</th>\n",
       "      <td>2018</td>\n",
       "      <td>10</td>\n",
       "      <td>49</td>\n",
       "    </tr>\n",
       "    <tr>\n",
       "      <th>4</th>\n",
       "      <td>2018</td>\n",
       "      <td>15</td>\n",
       "      <td>47</td>\n",
       "    </tr>\n",
       "    <tr>\n",
       "      <th>...</th>\n",
       "      <td>...</td>\n",
       "      <td>...</td>\n",
       "      <td>...</td>\n",
       "    </tr>\n",
       "    <tr>\n",
       "      <th>67</th>\n",
       "      <td>2020</td>\n",
       "      <td>21</td>\n",
       "      <td>12</td>\n",
       "    </tr>\n",
       "    <tr>\n",
       "      <th>68</th>\n",
       "      <td>2020</td>\n",
       "      <td>6</td>\n",
       "      <td>12</td>\n",
       "    </tr>\n",
       "    <tr>\n",
       "      <th>69</th>\n",
       "      <td>2020</td>\n",
       "      <td>2</td>\n",
       "      <td>12</td>\n",
       "    </tr>\n",
       "    <tr>\n",
       "      <th>70</th>\n",
       "      <td>2019</td>\n",
       "      <td>20</td>\n",
       "      <td>11</td>\n",
       "    </tr>\n",
       "    <tr>\n",
       "      <th>71</th>\n",
       "      <td>2020</td>\n",
       "      <td>11</td>\n",
       "      <td>11</td>\n",
       "    </tr>\n",
       "  </tbody>\n",
       "</table>\n",
       "<p>72 rows × 3 columns</p>\n",
       "</div>"
      ],
      "text/plain": [
       "    Year  Time_of_Day  Crime_Count\n",
       "0   2018            9           61\n",
       "1   2018            8           54\n",
       "2   2018           12           49\n",
       "3   2018           10           49\n",
       "4   2018           15           47\n",
       "..   ...          ...          ...\n",
       "67  2020           21           12\n",
       "68  2020            6           12\n",
       "69  2020            2           12\n",
       "70  2019           20           11\n",
       "71  2020           11           11\n",
       "\n",
       "[72 rows x 3 columns]"
      ]
     },
     "execution_count": 24,
     "metadata": {},
     "output_type": "execute_result"
    }
   ],
   "source": [
    "new_year_df=crime_year_df.rename(columns={'HrOfDate':'Time_of_Day',0:'Crime_Count'})\n",
    "new_year_df"
   ]
  },
  {
   "cell_type": "code",
   "execution_count": 25,
   "metadata": {},
   "outputs": [
    {
     "data": {
      "text/html": [
       "<div>\n",
       "<style scoped>\n",
       "    .dataframe tbody tr th:only-of-type {\n",
       "        vertical-align: middle;\n",
       "    }\n",
       "\n",
       "    .dataframe tbody tr th {\n",
       "        vertical-align: top;\n",
       "    }\n",
       "\n",
       "    .dataframe thead th {\n",
       "        text-align: right;\n",
       "    }\n",
       "</style>\n",
       "<table border=\"1\" class=\"dataframe\">\n",
       "  <thead>\n",
       "    <tr style=\"text-align: right;\">\n",
       "      <th></th>\n",
       "      <th>Year</th>\n",
       "      <th>Time_of_Day</th>\n",
       "      <th>Crime_Count</th>\n",
       "    </tr>\n",
       "  </thead>\n",
       "  <tbody>\n",
       "    <tr>\n",
       "      <th>0</th>\n",
       "      <td>2018</td>\n",
       "      <td>Morning</td>\n",
       "      <td>61</td>\n",
       "    </tr>\n",
       "    <tr>\n",
       "      <th>1</th>\n",
       "      <td>2018</td>\n",
       "      <td>Morning</td>\n",
       "      <td>54</td>\n",
       "    </tr>\n",
       "    <tr>\n",
       "      <th>2</th>\n",
       "      <td>2018</td>\n",
       "      <td>Afternoon</td>\n",
       "      <td>49</td>\n",
       "    </tr>\n",
       "    <tr>\n",
       "      <th>3</th>\n",
       "      <td>2018</td>\n",
       "      <td>Morning</td>\n",
       "      <td>49</td>\n",
       "    </tr>\n",
       "    <tr>\n",
       "      <th>4</th>\n",
       "      <td>2018</td>\n",
       "      <td>Afternoon</td>\n",
       "      <td>47</td>\n",
       "    </tr>\n",
       "    <tr>\n",
       "      <th>...</th>\n",
       "      <td>...</td>\n",
       "      <td>...</td>\n",
       "      <td>...</td>\n",
       "    </tr>\n",
       "    <tr>\n",
       "      <th>67</th>\n",
       "      <td>2020</td>\n",
       "      <td>Night</td>\n",
       "      <td>12</td>\n",
       "    </tr>\n",
       "    <tr>\n",
       "      <th>68</th>\n",
       "      <td>2020</td>\n",
       "      <td>Morning</td>\n",
       "      <td>12</td>\n",
       "    </tr>\n",
       "    <tr>\n",
       "      <th>69</th>\n",
       "      <td>2020</td>\n",
       "      <td>Late_Night</td>\n",
       "      <td>12</td>\n",
       "    </tr>\n",
       "    <tr>\n",
       "      <th>70</th>\n",
       "      <td>2019</td>\n",
       "      <td>Night</td>\n",
       "      <td>11</td>\n",
       "    </tr>\n",
       "    <tr>\n",
       "      <th>71</th>\n",
       "      <td>2020</td>\n",
       "      <td>Morning</td>\n",
       "      <td>11</td>\n",
       "    </tr>\n",
       "  </tbody>\n",
       "</table>\n",
       "<p>72 rows × 3 columns</p>\n",
       "</div>"
      ],
      "text/plain": [
       "    Year Time_of_Day  Crime_Count\n",
       "0   2018     Morning           61\n",
       "1   2018     Morning           54\n",
       "2   2018   Afternoon           49\n",
       "3   2018     Morning           49\n",
       "4   2018   Afternoon           47\n",
       "..   ...         ...          ...\n",
       "67  2020       Night           12\n",
       "68  2020     Morning           12\n",
       "69  2020  Late_Night           12\n",
       "70  2019       Night           11\n",
       "71  2020     Morning           11\n",
       "\n",
       "[72 rows x 3 columns]"
      ]
     },
     "execution_count": 25,
     "metadata": {},
     "output_type": "execute_result"
    }
   ],
   "source": [
    "bin =[0, 5, 11, 17, 23]\n",
    "group_name = [\"Late_Night\", \"Morning\", \"Afternoon\", \"Night\"]\n",
    "new_year_df['Time_of_Day']=pd.cut(new_year_df['Time_of_Day'], bin, labels=group_name, include_lowest=True)\n",
    "new_year_df"
   ]
  },
  {
   "cell_type": "code",
   "execution_count": 36,
   "metadata": {},
   "outputs": [],
   "source": [
    "grp = new_year_df.drop(columns='Year').groupby('Time_of_Day')"
   ]
  },
  {
   "cell_type": "code",
   "execution_count": null,
   "metadata": {},
   "outputs": [],
   "source": [
    "pd.DataFrame.sort_values"
   ]
  },
  {
   "cell_type": "code",
   "execution_count": 40,
   "metadata": {},
   "outputs": [
    {
     "data": {
      "text/html": [
       "<div>\n",
       "<style scoped>\n",
       "    .dataframe tbody tr th:only-of-type {\n",
       "        vertical-align: middle;\n",
       "    }\n",
       "\n",
       "    .dataframe tbody tr th {\n",
       "        vertical-align: top;\n",
       "    }\n",
       "\n",
       "    .dataframe thead th {\n",
       "        text-align: right;\n",
       "    }\n",
       "</style>\n",
       "<table border=\"1\" class=\"dataframe\">\n",
       "  <thead>\n",
       "    <tr style=\"text-align: right;\">\n",
       "      <th></th>\n",
       "      <th>Crime_Count</th>\n",
       "    </tr>\n",
       "    <tr>\n",
       "      <th>Time_of_Day</th>\n",
       "      <th></th>\n",
       "    </tr>\n",
       "  </thead>\n",
       "  <tbody>\n",
       "    <tr>\n",
       "      <th>Afternoon</th>\n",
       "      <td>605</td>\n",
       "    </tr>\n",
       "    <tr>\n",
       "      <th>Morning</th>\n",
       "      <td>546</td>\n",
       "    </tr>\n",
       "    <tr>\n",
       "      <th>Night</th>\n",
       "      <td>463</td>\n",
       "    </tr>\n",
       "    <tr>\n",
       "      <th>Late_Night</th>\n",
       "      <td>438</td>\n",
       "    </tr>\n",
       "  </tbody>\n",
       "</table>\n",
       "</div>"
      ],
      "text/plain": [
       "             Crime_Count\n",
       "Time_of_Day             \n",
       "Afternoon            605\n",
       "Morning              546\n",
       "Night                463\n",
       "Late_Night           438"
      ]
     },
     "execution_count": 40,
     "metadata": {},
     "output_type": "execute_result"
    }
   ],
   "source": [
    "grp.sum().sort_values('Crime_Count', ascending=False)"
   ]
  },
  {
   "cell_type": "code",
   "execution_count": 27,
   "metadata": {},
   "outputs": [],
   "source": [
    "year_2018=new_year_df.loc[new_year_df['Year']==2018]\n",
    "year_2019=new_year_df.loc[new_year_df['Year']==2019]\n",
    "year_2020=new_year_df.loc[new_year_df['Year']==2020]"
   ]
  },
  {
   "cell_type": "code",
   "execution_count": 28,
   "metadata": {},
   "outputs": [],
   "source": [
    "flip_2018=year_2018[\"Crime_Count\"].tolist()\n",
    "flip_2019=year_2019[\"Crime_Count\"].tolist()\n",
    "flip_2020=year_2020[\"Crime_Count\"].tolist()"
   ]
  },
  {
   "cell_type": "code",
   "execution_count": 29,
   "metadata": {
    "scrolled": true
   },
   "outputs": [
    {
     "data": {
      "text/html": [
       "<div>\n",
       "<style scoped>\n",
       "    .dataframe tbody tr th:only-of-type {\n",
       "        vertical-align: middle;\n",
       "    }\n",
       "\n",
       "    .dataframe tbody tr th {\n",
       "        vertical-align: top;\n",
       "    }\n",
       "\n",
       "    .dataframe thead th {\n",
       "        text-align: right;\n",
       "    }\n",
       "</style>\n",
       "<table border=\"1\" class=\"dataframe\">\n",
       "  <thead>\n",
       "    <tr style=\"text-align: right;\">\n",
       "      <th></th>\n",
       "      <th>count 2018</th>\n",
       "      <th>count 2019</th>\n",
       "      <th>count 2020</th>\n",
       "    </tr>\n",
       "  </thead>\n",
       "  <tbody>\n",
       "    <tr>\n",
       "      <th>Late_Night</th>\n",
       "      <td>NaN</td>\n",
       "      <td>NaN</td>\n",
       "      <td>NaN</td>\n",
       "    </tr>\n",
       "    <tr>\n",
       "      <th>Morning</th>\n",
       "      <td>NaN</td>\n",
       "      <td>NaN</td>\n",
       "      <td>NaN</td>\n",
       "    </tr>\n",
       "    <tr>\n",
       "      <th>Afternoon</th>\n",
       "      <td>NaN</td>\n",
       "      <td>NaN</td>\n",
       "      <td>NaN</td>\n",
       "    </tr>\n",
       "    <tr>\n",
       "      <th>Night</th>\n",
       "      <td>NaN</td>\n",
       "      <td>NaN</td>\n",
       "      <td>NaN</td>\n",
       "    </tr>\n",
       "  </tbody>\n",
       "</table>\n",
       "</div>"
      ],
      "text/plain": [
       "            count 2018  count 2019  count 2020\n",
       "Late_Night         NaN         NaN         NaN\n",
       "Morning            NaN         NaN         NaN\n",
       "Afternoon          NaN         NaN         NaN\n",
       "Night              NaN         NaN         NaN"
      ]
     },
     "execution_count": 29,
     "metadata": {},
     "output_type": "execute_result"
    }
   ],
   "source": [
    "plotdata=pd.DataFrame({\n",
    "    \"count 2018\":year_2018[\"Crime_Count\"],\n",
    "    \"count 2019\":year_2019[\"Crime_Count\"],\n",
    "    \"count 2020\":year_2020[\"Crime_Count\"]\n",
    "    }, index=[\"Late_Night\", \"Morning\", \"Afternoon\", \"Night\"])\n",
    "plotdata.head()\n",
    "# plt.xlabel(\"Phase of time\")\n",
    "# plt.ylabel('Property crimes count')\n",
    "# plt.title('Crime count by phase 2018-2020')\n",
    "\n",
    "# plt.tight_layout()"
   ]
  },
  {
   "cell_type": "code",
   "execution_count": 30,
   "metadata": {},
   "outputs": [
    {
     "data": {
      "image/png": "[encoded data removed]",
      "text/plain": [
       "<Figure size 576x576 with 1 Axes>"
      ]
     },
     "metadata": {
      "needs_background": "light"
     },
     "output_type": "display_data"
    },
    {
     "data": {
      "text/plain": [
       "<Figure size 432x288 with 0 Axes>"
      ]
     },
     "metadata": {},
     "output_type": "display_data"
    }
   ],
   "source": [
    "key_income.plot(kind='scatter', y=\"Per Capita Income 2018\", x=\"Property values 4/2019\", grid=True, figsize=(8,8),\n",
    "               title=\"Property Vs. Income Chicago\")\n",
    "plt.show()\n",
    "plt.savefig('Property_vs_income.png')"
   ]
  },
  {
   "cell_type": "code",
   "execution_count": 31,
   "metadata": {},
   "outputs": [
    {
     "data": {
      "image/png": "[encoded data removed]",
      "text/plain": [
       "<Figure size 576x576 with 1 Axes>"
      ]
     },
     "metadata": {
      "needs_background": "light"
     },
     "output_type": "display_data"
    }
   ],
   "source": [
    "key_income.plot(kind='scatter', y=\"Per Capita Income 2018\", x=\"Property values 4/2019\", grid=True, figsize=(8,8),\n",
    "               title=\"Property Vs. Income Chicago\")\n",
    "plt.show()"
   ]
  },
  {
   "cell_type": "code",
   "execution_count": 32,
   "metadata": {},
   "outputs": [
    {
     "data": {
      "text/plain": [
       "[43,\n",
       " 42,\n",
       " 42,\n",
       " 38,\n",
       " 38,\n",
       " 36,\n",
       " 34,\n",
       " 32,\n",
       " 29,\n",
       " 27,\n",
       " 27,\n",
       " 27,\n",
       " 26,\n",
       " 25,\n",
       " 25,\n",
       " 24,\n",
       " 23,\n",
       " 23,\n",
       " 22,\n",
       " 20,\n",
       " 20,\n",
       " 15,\n",
       " 14,\n",
       " 11]"
      ]
     },
     "execution_count": 32,
     "metadata": {},
     "output_type": "execute_result"
    }
   ],
   "source": [
    "flip_2019"
   ]
  }
 ],
 "metadata": {
  "kernelspec": {
   "display_name": "Python 3",
   "language": "python",
   "name": "python3"
  },
  "language_info": {
   "codemirror_mode": {
    "name": "ipython",
    "version": 3
   },
   "file_extension": ".py",
   "mimetype": "text/x-python",
   "name": "python",
   "nbconvert_exporter": "python",
   "pygments_lexer": "ipython3",
   "version": "3.7.8"
  }
 },
 "nbformat": 4,
 "nbformat_minor": 4
}
